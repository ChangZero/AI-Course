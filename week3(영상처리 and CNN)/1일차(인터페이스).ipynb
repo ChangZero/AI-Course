{
 "cells": [
  {
   "cell_type": "code",
   "execution_count": 1,
   "metadata": {},
   "outputs": [],
   "source": [
    "import numpy as np\n",
    "import cv2"
   ]
  },
  {
   "cell_type": "code",
   "execution_count": 2,
   "metadata": {},
   "outputs": [],
   "source": [
    "image = np.zeros((300,400), np.uint8) #300 x 400 행렬생성, 8비트 부호없는 정수형\n",
    "image.fill(200) # 밝은회색으로 바탕 채우기\n",
    "\n",
    "cv2.imshow('Window title', image)#imshow(윈도우이름, 행렬영상), 영상보기\n",
    "cv2.waitKey(5000)\n",
    "cv2.destroyAllWindows()"
   ]
  },
  {
   "cell_type": "code",
   "execution_count": 3,
   "metadata": {},
   "outputs": [
    {
     "name": "stdout",
     "output_type": "stream",
     "text": [
      "array1 \n",
      " [0 0 0 0]\n",
      "<class 'numpy.ndarray'>\n",
      "int32\n",
      "(4,)\n",
      "1\n",
      "\n",
      "array1 \n",
      " [1 1 1 1]\n",
      "<class 'numpy.ndarray'>\n",
      "int32\n",
      "(4,)\n",
      "1\n",
      "\n"
     ]
    }
   ],
   "source": [
    "array1 = np.array([0,0,0,0])\n",
    "print('array1', '\\n', array1)\n",
    "print(type(array1))\n",
    "print(array1.dtype)\n",
    "print(array1.shape)\n",
    "print(array1.ndim)\n",
    "print()\n",
    "\n",
    "array1 = np.array([1,1,1,1])\n",
    "print('array1', '\\n', array1)\n",
    "print(type(array1))\n",
    "print(array1.dtype)\n",
    "print(array1.shape)\n",
    "print(array1.ndim)\n",
    "print()"
   ]
  },
  {
   "cell_type": "code",
   "execution_count": 4,
   "metadata": {},
   "outputs": [
    {
     "name": "stdout",
     "output_type": "stream",
     "text": [
      "zeros1 \n",
      " [0. 0. 0. 0.]\n",
      "<class 'numpy.ndarray'>\n",
      "float64\n",
      "(4,)\n",
      "1\n",
      "\n",
      "ones1 \n",
      " [1. 1. 1. 1.]\n",
      "<class 'numpy.ndarray'>\n",
      "float64\n",
      "(4,)\n",
      "1\n",
      "\n"
     ]
    }
   ],
   "source": [
    "zeros1 = np.zeros((4))\n",
    "print('zeros1', '\\n', zeros1)\n",
    "print(type(zeros1))\n",
    "print(zeros1.dtype)\n",
    "print(zeros1.shape)\n",
    "print(zeros1.ndim)\n",
    "print()\n",
    "\n",
    "ones1 = np.ones((4))\n",
    "print('ones1', '\\n', ones1)\n",
    "print(type(ones1))\n",
    "print(ones1.dtype)\n",
    "print(ones1.shape)\n",
    "print(ones1.ndim)\n",
    "print()\n"
   ]
  },
  {
   "cell_type": "code",
   "execution_count": 5,
   "metadata": {},
   "outputs": [
    {
     "name": "stdout",
     "output_type": "stream",
     "text": [
      "array2 \n",
      " [[0 0 0 0]\n",
      " [1 2 3 4]\n",
      " [1 2 3 4]]\n",
      "<class 'numpy.ndarray'>\n",
      "int32\n",
      "(3, 4)\n",
      "2\n",
      "\n"
     ]
    }
   ],
   "source": [
    "array2 = np.array([[0,0,0,0],\n",
    "                  [1,2,3,4],\n",
    "                 [1,2,3,4]])\n",
    "print('array2', '\\n', array2)\n",
    "print(type(array2))\n",
    "print(array2.dtype)\n",
    "print(array2.shape)\n",
    "print(array2.ndim)\n",
    "print()\n"
   ]
  },
  {
   "cell_type": "code",
   "execution_count": 6,
   "metadata": {},
   "outputs": [
    {
     "name": "stdout",
     "output_type": "stream",
     "text": [
      "zeros2 \n",
      " [[0. 0. 0. 0.]\n",
      " [0. 0. 0. 0.]\n",
      " [0. 0. 0. 0.]]\n",
      "<class 'numpy.ndarray'>\n",
      "float64\n",
      "(3, 4)\n",
      "2\n",
      "\n",
      "ones1 \n",
      " [[1. 1. 1. 1.]\n",
      " [1. 1. 1. 1.]\n",
      " [1. 1. 1. 1.]]\n",
      "<class 'numpy.ndarray'>\n",
      "float64\n",
      "(3, 4)\n",
      "2\n",
      "\n"
     ]
    }
   ],
   "source": [
    "zeros2 = np.zeros((3,4))\n",
    "print('zeros2', '\\n', zeros2)\n",
    "print(type(zeros2))\n",
    "print(zeros2.dtype)\n",
    "print(zeros2.shape)\n",
    "print(zeros2.ndim)\n",
    "print()\n",
    "\n",
    "ones2 = np.ones((3,4))\n",
    "print('ones1', '\\n', ones2)\n",
    "print(type(ones2))\n",
    "print(ones2.dtype)\n",
    "print(ones2.shape)\n",
    "print(ones2.ndim)\n",
    "print()\n"
   ]
  },
  {
   "cell_type": "code",
   "execution_count": 7,
   "metadata": {},
   "outputs": [],
   "source": [
    "image = np.zeros((200,400), np.uint8)\n",
    "for i in range(0, 200, 10):\n",
    "    image[i:i+10] = i\n",
    "title1, title2 = 'Position1', 'Position2'\n",
    "cv2.namedWindow(title1, cv2.WINDOW_AUTOSIZE)\n",
    "cv2.namedWindow(title2)\n",
    "cv2.moveWindow(title1, 150,150)\n",
    "cv2.moveWindow(title2, 400,50)\n",
    "cv2.imshow(title1, image)\n",
    "cv2.imshow(title2, image)\n",
    "cv2.waitKey(0)\n",
    "cv2.destroyAllWindows()"
   ]
  },
  {
   "cell_type": "code",
   "execution_count": 1,
   "metadata": {},
   "outputs": [],
   "source": [
    "import numpy as np\n",
    "import cv2\n",
    "image = np.zeros((200,300), np.uint8)\n",
    "image.fill(255)\n",
    "title1, title2 = 'AUTOSIZE', 'NORMAL'\n",
    "cv2.namedWindow(title1, cv2.WINDOW_AUTOSIZE)\n",
    "cv2.namedWindow(title2, cv2.WINDOW_NORMAL)\n",
    "cv2.resizeWindow(title1, 400, 300)\n",
    "cv2.resizeWindow(title2, 400, 300)\n",
    "cv2.waitKey(0)\n",
    "cv2.destroyAllWindows()"
   ]
  },
  {
   "cell_type": "code",
   "execution_count": 10,
   "metadata": {},
   "outputs": [
    {
     "name": "stdout",
     "output_type": "stream",
     "text": [
      "마우스 왼쪽 버튼 누르기\n",
      "마우스 왼쪽 버튼 더블클릭\n",
      "마우스 왼쪽 버튼 누르기\n",
      "마우스 왼쪽 버튼 더블클릭\n",
      "마우스 오른쪽 버튼 누르기\n",
      "마우스 왼쪽 버튼 누르기\n",
      "마우스 오른쪽 버튼 떼기\n",
      "마우스 오른쪽 버튼 누르기\n",
      "마우스 왼쪽 버튼 누르기\n",
      "마우스 오른쪽 버튼 떼기\n",
      "마우스 왼쪽 버튼 누르기\n",
      "마우스 오른쪽 버튼 누르기\n",
      "마우스 왼쪽 버튼 누르기\n",
      "마우스 오른쪽 버튼 떼기\n",
      "마우스 오른쪽 버튼 누르기\n",
      "마우스 왼쪽 버튼 누르기\n",
      "마우스 오른쪽 버튼 떼기\n",
      "마우스 오른쪽 버튼 누르기\n",
      "마우스 왼쪽 버튼 누르기\n",
      "마우스 오른쪽 버튼 떼기\n",
      "마우스 오른쪽 버튼 누르기\n",
      "마우스 왼쪽 버튼 누르기\n",
      "마우스 오른쪽 버튼 떼기\n",
      "마우스 왼쪽 버튼 누르기\n",
      "마우스 왼쪽 버튼 더블클릭\n",
      "마우스 왼쪽 버튼 누르기\n",
      "마우스 왼쪽 버튼 누르기\n",
      "마우스 왼쪽 버튼 더블클릭\n",
      "마우스 오른쪽 버튼 누르기\n",
      "마우스 오른쪽 버튼 떼기\n",
      "마우스 왼쪽 버튼 누르기\n",
      "마우스 오른쪽 버튼 누르기\n",
      "마우스 왼쪽 버튼 누르기\n",
      "마우스 오른쪽 버튼 떼기\n",
      "마우스 오른쪽 버튼 누르기\n",
      "마우스 왼쪽 버튼 누르기\n",
      "마우스 오른쪽 버튼 떼기\n"
     ]
    }
   ],
   "source": [
    "def onMouse(event, x,y,flags, param):\n",
    "    if event == cv2.EVENT_LBUTTONDOWN:\n",
    "        print(\"마우스 왼쪽 버튼 누르기\")\n",
    "    elif event == cv2.EVENT_RBUTTONDOWN:\n",
    "        print(\"마우스 오른쪽 버튼 누르기\")\n",
    "    elif event == cv2.EVENT_RBUTTONUP:\n",
    "        print(\"마우스 오른쪽 버튼 떼기\")\n",
    "    elif event == cv2.EVENT_LBUTTONDBLCLK:\n",
    "        print(\"마우스 왼쪽 버튼 더블클릭\")\n",
    "image = np.full((200, 300), 255, np.uint8)\n",
    "    \n",
    "title1, title2 = \"Mouse Event1\", \"Mouse Event2\"\n",
    "cv2.imshow(title1, image)\n",
    "cv2.imshow(title2, image)\n",
    "\n",
    "cv2.setMouseCallback(title1, onMouse)\n",
    "cv2.setMouseCallback(title2, onMouse)\n",
    "cv2.waitKey(0)\n",
    "cv2.destroyAllWindows()"
   ]
  },
  {
   "cell_type": "code",
   "execution_count": 15,
   "metadata": {},
   "outputs": [
    {
     "name": "stdout",
     "output_type": "stream",
     "text": [
      "마우스 왼쪽 버튼 누르기 -> x:160, y:86\n",
      "마우스 왼쪽 버튼 누르기 -> x:73, y:100\n",
      "마우스 왼쪽 버튼 누르기 -> x:68, y:69\n",
      "마우스 왼쪽 버튼 누르기 -> x:157, y:110\n",
      "마우스 왼쪽 버튼 누르기 -> x:64, y:99\n",
      "마우스 왼쪽 버튼 누르기 -> x:102, y:86\n",
      "마우스 왼쪽 버튼 누르기 -> x:157, y:118\n",
      "마우스 왼쪽 버튼 누르기 -> x:170, y:118\n"
     ]
    }
   ],
   "source": [
    "def onMouse(event, x,y,flags, param):\n",
    "    if event == cv2.EVENT_LBUTTONDOWN:\n",
    "        print(\"마우스 왼쪽 버튼 누르기 -> x:{}, y:{}\".format(x,y))\n",
    "    elif event == cv2.EVENT_RBUTTONDOWN:\n",
    "        print(\"마우스 오른쪽 버튼 누르기 -> x:{}, y:{}\".format(x,y))\n",
    "    elif event == cv2.EVENT_RBUTTONUP:\n",
    "        print(\"마우스 오른쪽 버튼 떼기 -> x:{}, y:{}\".format(x,y))\n",
    "    elif event == cv2.EVENT_LBUTTONDBLCLK:\n",
    "        print(\"마우스 왼쪽 버튼 더블클릭 -> x:{}, y:{}\".format(x,y))\n",
    "image = np.full((200, 300), 0, np.uint8)\n",
    "    \n",
    "title1, title2 = \"Mouse Event1\", \"Mouse Event2\"\n",
    "cv2.imshow(title1, image)\n",
    "cv2.imshow(title2, image)\n",
    "\n",
    "cv2.setMouseCallback(title1, onMouse)\n",
    "cv2.setMouseCallback(title2, onMouse)\n",
    "cv2.waitKey(0)\n",
    "cv2.destroyAllWindows()"
   ]
  },
  {
   "cell_type": "code",
   "execution_count": 23,
   "metadata": {},
   "outputs": [],
   "source": [
    "def on_level_change1(pos):\n",
    "    value = pos * 1\n",
    "    if value >= 255:\n",
    "        value = 255\n",
    "    img[:100] = value\n",
    "    cv2.imshow('image', img)\n",
    "\n",
    "def on_level_change2(pos):\n",
    "    value = pos * 1\n",
    "    if value >= 255:\n",
    "        value = 255\n",
    "    img[100:200] = value\n",
    "    cv2.imshow('image', img)\n",
    "    \n",
    "def on_level_change3(pos):\n",
    "    value = pos * 1\n",
    "    if value >= 255:\n",
    "        value = 255\n",
    "    img[200:] = value\n",
    "    cv2.imshow('image', img)\n",
    "img = np.zeros((350,700), np.uint8)\n",
    "\n",
    "cv2.namedWindow('image', cv2.WINDOW_NORMAL)\n",
    "cv2.resizeWindow('image', 500, 500)\n",
    "cv2.createTrackbar('level1', 'image', 0, 255, on_level_change1)\n",
    "cv2.createTrackbar('level2', 'image', 0, 255, on_level_change2)\n",
    "cv2.createTrackbar('level3', 'image', 0, 255, on_level_change3)\n",
    "\n",
    "cv2.imshow('image', img)\n",
    "cv2.waitKey(0)\n",
    "cv2.destroyAllWindows()"
   ]
  },
  {
   "cell_type": "code",
   "execution_count": 8,
   "metadata": {},
   "outputs": [],
   "source": [
    "import numpy as np\n",
    "import cv2\n",
    "blue, green, red = ((255,0,0), (0,255,0), (0,0,255))\n",
    "image = np.zeros((400,600), np.uint8)\n",
    "image[:] = 255\n",
    "\n",
    "pt1, pt2 = (50,50), (150,150)\n",
    "pt3, pt4 = (400, 150), (500, 50)\n",
    "roi = 50, 200, 200, 100\n",
    "cv2.line(image, pt1, pt2, red)\n",
    "cv2.line(image, pt3, pt4, green, 3, cv2.LINE_AA)\n",
    "\n",
    "cv2.rectangle(image, pt1, pt2, blue, 3, cv2.LINE_4)\n",
    "cv2.rectangle(image, roi, red, 3, cv2.LINE_8)\n",
    "cv2.rectangle(image, (400,200,100,100), green, cv2.FILLED)\n",
    "\n",
    "cv2.imshow('Line & Rectangle', image)\n",
    "cv2.waitKey(0)\n",
    "cv2.destroyAllWindows()\n",
    "\n"
   ]
  },
  {
   "cell_type": "code",
   "execution_count": 16,
   "metadata": {},
   "outputs": [],
   "source": [
    "blue, green, red , mycolor= ((255,0,0), (0,255,0), (0,0,255), (50,100,40))\n",
    "image = np.zeros((400,600, 3), np.uint8) # RGB 3차원 배열로 생성\n",
    "image[:] = 255\n",
    "\n",
    "pt1, pt2 = (50,50), (150,150)\n",
    "pt3, pt4 = (400, 150), (500, 50)\n",
    "roi = 50, 200, 200, 100\n",
    "cv2.line(image, pt1, pt2, red)\n",
    "cv2.line(image, pt3, pt4, green, 3, cv2.LINE_AA)\n",
    "\n",
    "# cv2.rectangle(image, pt1, pt2, blue, 3, cv2.LINE_4)\n",
    "cv2.rectangle(image, roi, red, 3, cv2.LINE_8)\n",
    "cv2.rectangle(image, (400,200,100,100), green, cv2.FILLED)\n",
    "cv2.rectangle(image, pt1, pt2, mycolor, 3, cv2.LINE_4)\n",
    "\n",
    "cv2.imshow('Line & Rectangle', image)\n",
    "cv2.waitKey(0)\n",
    "cv2.destroyAllWindows()"
   ]
  },
  {
   "cell_type": "code",
   "execution_count": 23,
   "metadata": {},
   "outputs": [],
   "source": [
    "olive, violet, brown = (128, 128, 0), (221, 160, 221), (42, 42, 165)\n",
    "pt1, pt2 = (50, 200), (50, 260)\n",
    "image = np.zeros ((300, 500, 3), np.uint8)\n",
    "image.fill(255)\n",
    "cv2.putText(image, \"SIMPLEX\", (100, 100) ,cv2.FONT_HERSHEY_SIMPLEX, 3, brown)\n",
    "cv2.putText(image, \"DUPLEX\" , (100, 100),cv2.FONT_HERSHEY_DUPLEX , 3, olive)\n",
    "cv2.putText(image, \"TRIPLEX\", pt1, cv2.FONT_HERSHEY_TRIPLEX, 2, violet)\n",
    "fontFace = cv2.FONT_HERSHEY_PLAIN + cv2.FONT_ITALIC\n",
    "cv2.putText(image, \"ITALIC\" , pt2, fontFace , 4, violet)\n",
    "cv2.imshow(\"Put Text\"  , image)\n",
    "cv2.waitKey(0)\n",
    "cv2.destroyAllWindows()"
   ]
  },
  {
   "cell_type": "code",
   "execution_count": 32,
   "metadata": {},
   "outputs": [],
   "source": [
    "img = np.zeros ((500, 700, 3), np.uint8)\n",
    "img.fill (255)\n",
    "cv2.circle( img , (100, 250), 40, (0,0,255), -1)\n",
    "cv2.circle( img , (150, 250), 60, (0,127,255), -1)\n",
    "cv2.circle( img , (210, 250), 80, (0,255,255), -1)\n",
    "cv2.circle( img , (270, 250), 100, (0,255,0), -1)\n",
    "cv2.circle( img , (330, 250), 120, (255,0,0), -1)\n",
    "cv2.circle( img , (390, 250), 140, (128,0,0), -1)\n",
    "cv2.circle( img , (450, 250), 160, (255,0,139), -1)\n",
    "font = cv2.FONT_HERSHEY_SCRIPT_COMPLEX\n",
    "cv2.putText( img , \"r\", (100, 50), font, 1, (0,0,255))\n",
    "cv2.putText( img , \"o\", (150, 50), font, 1, (0,127,255))\n",
    "cv2.putText( img , \"y\", (210, 50), font, 1, (0,255,255))\n",
    "cv2.putText( img , \"g\", (270, 50), font, 1, (0,255,255))\n",
    "cv2.putText( img , \"b\", (330, 50), font, 1, (255,0,0))\n",
    "cv2.putText( img , \"n\", (390, 50), font, 1, (128,0,0))\n",
    "cv2.putText( img , \"p\", (450, 50), font, 1, (255,0,139))\n",
    "cv2.imshow('circle', img)\n",
    "cv2.waitKey(0)\n",
    "cv2.destroyAllWindows()"
   ]
  },
  {
   "cell_type": "code",
   "execution_count": 36,
   "metadata": {},
   "outputs": [],
   "source": [
    "orange, blue, white = (0,165,255), (255,0,0), (255,255,255)\n",
    "image = np.full((300,700, 3), white, np.uint8)\n",
    "pt1, pt2 = (180,150), (550, 150)\n",
    "size = (120,60)\n",
    "\n",
    "cv2.circle(image, pt1, 1,0,2)\n",
    "cv2.circle(image, pt2, 1,0,2)\n",
    "\n",
    "cv2.ellipse(image,pt1,size, 0, 0, 360, blue, 1)\n",
    "cv2.ellipse(image,pt1,size, 0, 30, 270, orange, 4)\n",
    "cv2.ellipse(image,pt2,size, 90, 0, 360, blue, 1)\n",
    "cv2.ellipse(image,pt2,size, 90, -45, 90, orange, 4)\n",
    "\n",
    "cv2.imshow(\"Draw Eclipse & Arc\", image)\n",
    "cv2.waitKey(0)\n",
    "cv2.destroyAllWindows()"
   ]
  },
  {
   "cell_type": "code",
   "execution_count": 70,
   "metadata": {},
   "outputs": [],
   "source": [
    "import numpy as np\n",
    "import cv2\n",
    "\n",
    "red = (0,0,255)\n",
    "blue = (255, 0, 0)\n",
    "black = (0,0,0)\n",
    "center = (150,100)\n",
    "left_center = (129,88)\n",
    "right_center = (171, 112)\n",
    "\n",
    "image = np.zeros((200,300,3), np.uint8)\n",
    "image[:] = 255\n",
    "\n",
    "cv2.ellipse(image, center, (50, 50), 210, 0, 180, red, -1)\n",
    "cv2.ellipse(image, center, (50, 50), 30, 0, 180, blue, -1)\n",
    "cv2.ellipse(image, left_center, (25, 25), 0, 0, 360, red, -1)\n",
    "cv2.ellipse(image, right_center, (25, 25), 0, 0, 360, blue, -1)\n",
    "cv2.line(image, (15,40), (40, 10), black, cv2.LINE_4)\n",
    "cv2.line(image, (25,50), (50, 20), black, cv2.LINE_4)\n",
    "cv2.line(image, (35,60), (60, 30), black, cv2.LINE_4)\n",
    "\n",
    "cv2.line(image, (200,150),(230, 110), black, cv2.LINE_4)\n",
    "cv2.line(image, (25,50), (50, 20), black, cv2.LINE_4)\n",
    "cv2.line(image, (35,60), (60, 30), black, cv2.LINE_4)\n",
    "\n",
    "\n",
    "cv2.namedWindow('korea', cv2.WINDOW_NORMAL)\n",
    "cv2.imshow('korea', image)\n",
    "cv2.waitKey(0)\n",
    "cv2.destroyAllWindows()"
   ]
  },
  {
   "cell_type": "code",
   "execution_count": 69,
   "metadata": {},
   "outputs": [],
   "source": [
    "def on_level_change(pos):\n",
    "    value = pos * 1\n",
    "    if value >= 255:\n",
    "        value = 255\n",
    "    r = cv2.getTrackbarPos('R', 'image')\n",
    "    g = cv2.getTrackbarPos('G', 'image')\n",
    "    b = cv2.getTrackbarPos('B', 'image')\n",
    "    img[:] = [b,g,r]\n",
    "    cv2.imshow('image', img)\n",
    "    \n",
    "img = np.zeros((350, 500,3), np.uint8)\n",
    "cv2.namedWindow('image', cv2.WINDOW_NORMAL)\n",
    "cv2.createTrackbar('R', 'image', 0, 255, on_level_change)\n",
    "cv2.createTrackbar('G', 'image', 0, 255, on_level_change)\n",
    "cv2.createTrackbar('B', 'image', 0, 255, on_level_change)\n",
    "cv2.imshow('image', img)\n",
    "cv2.waitKey(0)\n",
    "cv2.destroyAllWindows()"
   ]
  },
  {
   "cell_type": "code",
   "execution_count": null,
   "metadata": {},
   "outputs": [],
   "source": []
  }
 ],
 "metadata": {
  "kernelspec": {
   "display_name": "Python 3",
   "language": "python",
   "name": "python3"
  },
  "language_info": {
   "codemirror_mode": {
    "name": "ipython",
    "version": 3
   },
   "file_extension": ".py",
   "mimetype": "text/x-python",
   "name": "python",
   "nbconvert_exporter": "python",
   "pygments_lexer": "ipython3",
   "version": "3.7.4"
  }
 },
 "nbformat": 4,
 "nbformat_minor": 2
}
