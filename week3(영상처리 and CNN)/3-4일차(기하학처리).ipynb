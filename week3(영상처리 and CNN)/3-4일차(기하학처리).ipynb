{
 "cells": [
  {
   "cell_type": "code",
   "execution_count": 1,
   "metadata": {},
   "outputs": [],
   "source": [
    "import cv2\n",
    "import numpy as np"
   ]
  },
  {
   "cell_type": "code",
   "execution_count": 6,
   "metadata": {},
   "outputs": [],
   "source": [
    "img = cv2.imread('images/fish.jpg')\n",
    "rows, cols = img.shape[0:2]\n",
    "\n",
    "dx, dy = 100,50\n",
    "\n",
    "mtrx = np.float32([[1,0, dx],\n",
    "                  [0, 1, dy]])\n",
    "\n",
    "move_basic = cv2.warpAffine(img, mtrx,(cols+dx, rows+dy))\n",
    "\n",
    "move_constant = cv2.warpAffine(img, mtrx, (cols+dx, rows+dy),\n",
    "                               None, None, cv2.BORDER_CONSTANT, (255,255,0))\n",
    "move_reflect = cv2.warpAffine(img, mtrx, (cols+dx, rows+dy), None, None, cv2.BORDER_WRAP)\n",
    "\n",
    "cv2.imshow('original', img)\n",
    "cv2.imshow('move1', move_basic)\n",
    "cv2.imshow('move2', move_constant)\n",
    "cv2.imshow('move3', move_reflect)\n",
    "cv2.waitKey(0)\n",
    "cv2.destroyAllWindows()"
   ]
  },
  {
   "cell_type": "code",
   "execution_count": 9,
   "metadata": {},
   "outputs": [],
   "source": [
    "img = cv2.imread('images/fish.jpg')\n",
    "rows, cols = img.shape[0:2]\n",
    "\n",
    "dx, dy = 100,50\n",
    "\n",
    "mtrx = np.float32([[1,0, dx],\n",
    "                  [0, 1, dy]])\n",
    "\n",
    "move_basic = cv2.warpAffine(img, mtrx,(960, 540))\n",
    "\n",
    "move_constant = cv2.warpAffine(img, mtrx, (960, 540),\n",
    "                               None, None, cv2.BORDER_CONSTANT, (255,0,0))\n",
    "move_reflect = cv2.warpAffine(img, mtrx, (960, 540), None, None, cv2.BORDER_WRAP)\n",
    "\n",
    "cv2.imshow('original', img)\n",
    "cv2.imshow('move1', move_basic)\n",
    "cv2.imshow('move2', move_constant)\n",
    "cv2.imshow('move3', move_reflect)\n",
    "cv2.waitKey(0)\n",
    "cv2.destroyAllWindows()"
   ]
  },
  {
   "cell_type": "code",
   "execution_count": 4,
   "metadata": {},
   "outputs": [],
   "source": [
    "img = cv2.imread('images/pixel.jpg')\n",
    "height, width = img.shape[:2]\n",
    "\n",
    "small_mtrx = np.float32([[0.6,0, 0],\n",
    "                         [0, 0.6, 0]])\n",
    "\n",
    "big_mtrx = np.float32([[2,0, 0],\n",
    "                         [0, 2, 0]])\n",
    "\n",
    "small_basic = cv2.warpAffine(img, small_mtrx,(int(height*0.6), int(width*0.6)))\n",
    "big_basic = cv2.warpAffine(img, big_mtrx,(int(height*2), int(width*2)))\n",
    "small_area = cv2.warpAffine(img, small_mtrx, (int(height*0.6), int(width*0.6)),None, cv2.INTER_AREA)\n",
    "big_cubic = cv2.warpAffine(img, big_mtrx, (int(height*2), int(width*2)), None, cv2.INTER_CUBIC)\n",
    "cv2.imshow('original', img)\n",
    "cv2.imshow('small_basic', small_basic)\n",
    "cv2.imshow('big_basic', big_basic)\n",
    "cv2.imshow('move3', small_area)\n",
    "cv2.imshow('big_cubic', big_cubic)\n",
    "cv2.waitKey(0)\n",
    "cv2.destroyAllWindows()"
   ]
  },
  {
   "cell_type": "code",
   "execution_count": null,
   "metadata": {},
   "outputs": [],
   "source": []
  }
 ],
 "metadata": {
  "kernelspec": {
   "display_name": "Python 3",
   "language": "python",
   "name": "python3"
  },
  "language_info": {
   "codemirror_mode": {
    "name": "ipython",
    "version": 3
   },
   "file_extension": ".py",
   "mimetype": "text/x-python",
   "name": "python",
   "nbconvert_exporter": "python",
   "pygments_lexer": "ipython3",
   "version": "3.7.4"
  }
 },
 "nbformat": 4,
 "nbformat_minor": 2
}
