{
 "cells": [
  {
   "cell_type": "code",
   "execution_count": 1,
   "metadata": {},
   "outputs": [],
   "source": [
    "import cv2\n",
    "import numpy as np\n",
    "\n",
    "from header.coin_preprocess2 import *\n",
    "from header.coin_utils import *\n",
    "from Common.histogram import draw_histo_hue"
   ]
  },
  {
   "cell_type": "code",
   "execution_count": 3,
   "metadata": {},
   "outputs": [],
   "source": [
    "def onMouse(event, x, y, flags, param):\n",
    "    global pre_img, hist_roi\n",
    "    if event == cv2.EVENT_LBUTTONDOWN:\n",
    "        for i,((cx,cy), radius) in enumerate(circles):\n",
    "            dx, dy = (cx - x), (cy - y)\n",
    "            dist = np.sqrt(dx**2 + dy**2)\n",
    "            \n",
    "            if dist < radius:\n",
    "                hist_img = draw_histo_hue(coin_hists[i], (80, 128, 3))\n",
    "                h, w = hist_img.shape[:2]\n",
    "                hist_roi = [x,y,w,h]\n",
    "                pre_img = image[y:y+h, x:x+w].copy()\n",
    "                image[y:y+h, x:x+w] = hist_img\n",
    "                cv2.imshow(\"image\", image)\n",
    "    if event == cv2.EVENT_LBUTTONUP:\n",
    "        x,y,w,h = hist_roi\n",
    "        image[y:y+h, x:x+w] = pre_img\n",
    "        cv2.imshow(\"image\", image)"
   ]
  },
  {
   "cell_type": "code",
   "execution_count": 7,
   "metadata": {},
   "outputs": [],
   "source": [
    "coin_no = 15\n",
    "image, th_img = preprocessing(coin_no)\n",
    "circles = find_coins(th_img)\n",
    "coin_imgs = make_coin_img(image, circles)\n",
    "coin_hists = [calc_histo_hue(coin) for coin in coin_imgs]\n",
    "\n",
    "for center, radius in circles:\n",
    "    cv2.circle(image, center, radius, (0,255,0), 2)\n",
    "\n",
    "cv2.imshow(\"image\", image)\n",
    "cv2.setMouseCallback('image', onMouse)\n",
    "cv2.waitKey(0)\n",
    "cv2.destroyAllWindows()"
   ]
  }
 ],
 "metadata": {
  "kernelspec": {
   "display_name": "Python 3",
   "language": "python",
   "name": "python3"
  },
  "language_info": {
   "codemirror_mode": {
    "name": "ipython",
    "version": 3
   },
   "file_extension": ".py",
   "mimetype": "text/x-python",
   "name": "python",
   "nbconvert_exporter": "python",
   "pygments_lexer": "ipython3",
   "version": "3.7.4"
  }
 },
 "nbformat": 4,
 "nbformat_minor": 2
}
