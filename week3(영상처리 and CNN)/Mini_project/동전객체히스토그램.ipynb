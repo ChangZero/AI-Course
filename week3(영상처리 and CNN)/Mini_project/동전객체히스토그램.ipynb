{
 "cells": [
  {
   "cell_type": "code",
   "execution_count": 3,
   "metadata": {},
   "outputs": [],
   "source": [
    "from header.coin_preprocess2 import *\n",
    "from header.coin_utils import *\n",
    "from Common.histogram import draw_histo_hue"
   ]
  },
  {
   "cell_type": "code",
   "execution_count": 6,
   "metadata": {},
   "outputs": [],
   "source": [
    "coin_no = 15\n",
    "image, th_img = preprocessing(coin_no)\n",
    "circles = find_coins(th_img)\n",
    "coin_imgs = make_coin_img(image, circles)\n",
    "coin_hists = [calc_histo_hue(coin) for coin in coin_imgs]\n",
    "\n",
    "for i, img in enumerate(coin_imgs):\n",
    "    h, w = 200, 256\n",
    "    hist_img = draw_histo_hue(coin_hists[i], (h,w,3))\n",
    "    merge = np.zeros((h,w+h,3), np.uint8)\n",
    "    merge[:,:w] = hist_img\n",
    "    merge[:,w:] = cv2.resize(img, (h,h))\n",
    "    cv2.imshow(\"hgist&coin-\" + str(i), merge)\n",
    "\n",
    "cv2.waitKey(0)\n",
    "cv2.destroyAllWindows()"
   ]
  }
 ],
 "metadata": {
  "kernelspec": {
   "display_name": "Python 3",
   "language": "python",
   "name": "python3"
  },
  "language_info": {
   "codemirror_mode": {
    "name": "ipython",
    "version": 3
   },
   "file_extension": ".py",
   "mimetype": "text/x-python",
   "name": "python",
   "nbconvert_exporter": "python",
   "pygments_lexer": "ipython3",
   "version": "3.7.4"
  }
 },
 "nbformat": 4,
 "nbformat_minor": 2
}
