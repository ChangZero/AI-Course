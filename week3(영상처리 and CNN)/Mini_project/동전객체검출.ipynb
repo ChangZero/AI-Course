{
 "cells": [
  {
   "cell_type": "markdown",
   "metadata": {},
   "source": [
    "# 동전 객체 검출"
   ]
  },
  {
   "cell_type": "code",
   "execution_count": 4,
   "metadata": {},
   "outputs": [],
   "source": [
    "import cv2\n",
    "import numpy as np"
   ]
  },
  {
   "cell_type": "code",
   "execution_count": 12,
   "metadata": {},
   "outputs": [],
   "source": [
    "def preprocessing(coin_no):\n",
    "    fname = \"images/coin/{0:02d}.png\".format(coin_no)\n",
    "    image = cv2.imread( fname , cv2.IMREAD_COLOR)\n",
    "    if image is None:\n",
    "        raise Exception(\" 영상 파일 읽기 에러\")\n",
    "    \n",
    "    # 2진화 과정\n",
    "    gray = cv2.cvtColor(image, cv2.COLOR_BGR2GRAY)\n",
    "    gray = cv2.GaussianBlur(gray, (7,7), 2,2)\n",
    "    flag = cv2.THRESH_BINARY + cv2.THRESH_OTSU\n",
    "    ret, th_img = cv2.threshold(gray, 130, 255, flag)\n",
    "\n",
    "    # 배경 노이즈 제거\n",
    "    mask = np.ones((3,3), np.uint8)\n",
    "    th_img = cv2.morphologyEx(th_img, cv2.MORPH_OPEN, mask)\n",
    "    return image, th_img"
   ]
  },
  {
   "cell_type": "code",
   "execution_count": 16,
   "metadata": {},
   "outputs": [],
   "source": [
    "def find_coins(image):\n",
    "    results = cv2.findContours(image, cv2.RETR_EXTERNAL, cv2.CHAIN_APPROX_SIMPLE)\n",
    "    contours = results[0] if int(cv2.__version__[0]) >= 4 else results[1]\n",
    "    circles = [cv2.minEnclosingCircle(c) for c in contours]\n",
    "    circles = [(list(map(int, center)), int(radius)) for center, radius in circles if radius >25]\n",
    "    return circles"
   ]
  },
  {
   "cell_type": "code",
   "execution_count": 18,
   "metadata": {},
   "outputs": [],
   "source": [
    "image, th_img = preprocessing(70)\n",
    "if image is None:\n",
    "    raise Exception(\"영상 파일 에러\")\n",
    "\n",
    "circles = find_coins(th_img)\n",
    "for center, radius in circles:\n",
    "    cv2.circle(image, center, radius, (0,255,0),2)\n",
    "    \n",
    "cv2.imshow(\"preprocessed image\", th_img)\n",
    "cv2.imshow(\"coin image\", image)\n",
    "cv2.waitKey(0)\n",
    "cv2.destroyAllWindows()"
   ]
  }
 ],
 "metadata": {
  "kernelspec": {
   "display_name": "Python 3",
   "language": "python",
   "name": "python3"
  },
  "language_info": {
   "codemirror_mode": {
    "name": "ipython",
    "version": 3
   },
   "file_extension": ".py",
   "mimetype": "text/x-python",
   "name": "python",
   "nbconvert_exporter": "python",
   "pygments_lexer": "ipython3",
   "version": "3.7.4"
  }
 },
 "nbformat": 4,
 "nbformat_minor": 2
}
