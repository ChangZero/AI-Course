{
 "cells": [
  {
   "cell_type": "code",
   "execution_count": 1,
   "metadata": {},
   "outputs": [],
   "source": [
    "from header.coin_preprocess2 import *\n",
    "from header.coin_utils import *\n",
    "from Common.utils import put_string"
   ]
  },
  {
   "cell_type": "code",
   "execution_count": 2,
   "metadata": {},
   "outputs": [],
   "source": [
    "coin_no = 15\n",
    "image, th_img = preprocessing(coin_no)\n",
    "circles = find_coins(th_img)\n",
    "coin_imgs = make_coin_img(image, circles)\n",
    "coin_hists = [calc_histo_hue(coin) for coin in coin_imgs]"
   ]
  },
  {
   "cell_type": "code",
   "execution_count": 5,
   "metadata": {},
   "outputs": [
    {
     "name": "stdout",
     "output_type": "stream",
     "text": [
      " 10원: 16개\n",
      " 50원:  2개\n",
      "100원:  6개\n",
      "500원:  3개\n",
      "Total coin: 2,360 Won\n"
     ]
    }
   ],
   "source": [
    "groups = grouping(coin_hists)\n",
    "ncoins = classify_coins(circles, groups)\n",
    "\n",
    "coin_value = np.array([10,50,100,500])\n",
    "for i in range(4):\n",
    "    print(\"{0:3d}원:{1:3d}개\".format(coin_value[i], ncoins[i]))\n",
    "\n",
    "total = sum(coin_value * ncoins)\n",
    "str = \"Total coin: {:,} Won\".format(total)\n",
    "print(str)\n",
    "put_string(image, str, (650, 50), '', (0,230, 0))\n",
    "\n",
    "color = [(0,0,250), (255,255,0), (0,250,0), (250,0,255)]\n",
    "for i,(c,r) in enumerate(circles):\n",
    "    cv2.circle(image,c,r,color[groups[i]],2)\n",
    "    put_string(image,i,(c[0]-15, c[1]-10),'',color[2])\n",
    "    put_string(image,r,(c[0], c[1]+15),'',color[3])\n",
    "    \n",
    "cv2.imshow('result image', image)\n",
    "key = cv2.waitKey(0)\n",
    "cv2.destroyAllWindows()\n",
    "    "
   ]
  }
 ],
 "metadata": {
  "kernelspec": {
   "display_name": "Python 3",
   "language": "python",
   "name": "python3"
  },
  "language_info": {
   "codemirror_mode": {
    "name": "ipython",
    "version": 3
   },
   "file_extension": ".py",
   "mimetype": "text/x-python",
   "name": "python",
   "nbconvert_exporter": "python",
   "pygments_lexer": "ipython3",
   "version": "3.7.4"
  }
 },
 "nbformat": 4,
 "nbformat_minor": 2
}
