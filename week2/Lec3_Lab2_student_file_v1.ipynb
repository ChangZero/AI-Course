{
  "cells": [
    {
      "cell_type": "code",
      "execution_count": 28,
      "metadata": {
        "id": "jggpB0qX0kJ9"
      },
      "outputs": [],
      "source": [
        "import matplotlib.pyplot as plt\n",
        "import pandas as pd\n",
        "import numpy as np\n",
        "from sklearn import linear_model  # scikit-learn 모듈을 가져온다\n",
        "\n",
        "# to make this notebook's output stable across runs\n",
        "np.random.seed(42)\n",
        "\n",
        "# To plot pretty figures\n",
        "%matplotlib inline\n",
        "import matplotlib as mpl\n",
        "import matplotlib.pyplot as plt\n",
        "mpl.rc('axes', labelsize=14)\n",
        "mpl.rc('xtick', labelsize=12)\n",
        "mpl.rc('ytick', labelsize=12)\n",
        "\n",
        "# Ignore useless warnings (see SciPy issue #5998)\n",
        "import warnings\n",
        "warnings.filterwarnings(action=\"ignore\", message=\"^internal gelsd\")\n",
        "\n",
        "data_home = 'https://github.com/dknife/ML/raw/main/data/'\n",
        "lin_data = pd.read_csv(data_home+'pollution.csv')"
      ]
    },
    {
      "cell_type": "markdown",
      "source": [
        "Lab1"
      ],
      "metadata": {
        "id": "7Bvu7P55wdHD"
      }
    },
    {
      "cell_type": "code",
      "source": [
        "data_home = 'https://github.com/dknife/ML/raw/main/data/'\n",
        "lin_data = pd.read_csv(data_home+'pollution.csv')\n",
        "\n",
        "print(lin_data)"
      ],
      "metadata": {
        "id": "6uEZ-czpwbzE",
        "colab": {
          "base_uri": "https://localhost:8080/"
        },
        "outputId": "74dcb8e8-f258-4436-c10d-770a5e04c194"
      },
      "execution_count": 29,
      "outputs": [
        {
          "output_type": "stream",
          "name": "stdout",
          "text": [
            "       input  pollution\n",
            "0   0.240557   4.858750\n",
            "1   0.159731   4.471091\n",
            "2   0.108295   4.341897\n",
            "3   0.233770   3.586844\n",
            "4   0.283235   3.678243\n",
            "..       ...        ...\n",
            "95  0.070824   4.851617\n",
            "96  0.055300   4.912696\n",
            "97  0.138229   5.516441\n",
            "98  0.007205   5.661260\n",
            "99  0.290294   3.169049\n",
            "\n",
            "[100 rows x 2 columns]\n"
          ]
        }
      ]
    },
    {
      "cell_type": "code",
      "source": [
        "lin_data.plot(kind = 'scatter', x = 'input', y = 'pollution')"
      ],
      "metadata": {
        "id": "jLiwbIpwwcea",
        "colab": {
          "base_uri": "https://localhost:8080/",
          "height": 304
        },
        "outputId": "85dd0f5a-8ea2-4315-bd68-ee214023f4d6"
      },
      "execution_count": 30,
      "outputs": [
        {
          "output_type": "execute_result",
          "data": {
            "text/plain": [
              "<matplotlib.axes._subplots.AxesSubplot at 0x7f18e1c09c10>"
            ]
          },
          "metadata": {},
          "execution_count": 30
        },
        {
          "output_type": "display_data",
          "data": {
            "text/plain": [
              "<Figure size 432x288 with 1 Axes>"
            ],
            "image/png": "[encoded data removed]"
          },
          "metadata": {
            "needs_background": "light"
          }
        }
      ]
    },
    {
      "cell_type": "markdown",
      "source": [
        "Lab2"
      ],
      "metadata": {
        "id": "FN44ReHbwetT"
      }
    },
    {
      "cell_type": "code",
      "source": [
        "x = lin_data['input'].to_numpy()\n",
        "y = lin_data['pollution'].to_numpy()\n",
        "print(x.shape, y.shape)\n",
        "\n",
        "x = x[:, np.newaxis]\n",
        "print(x.shape, y.shape)"
      ],
      "metadata": {
        "id": "Rj4RBQ5AwgLT",
        "colab": {
          "base_uri": "https://localhost:8080/"
        },
        "outputId": "1a248b89-d7bc-48af-d66e-dfe9cc471f24"
      },
      "execution_count": 31,
      "outputs": [
        {
          "output_type": "stream",
          "name": "stdout",
          "text": [
            "(100,) (100,)\n",
            "(100, 1) (100,)\n"
          ]
        }
      ]
    },
    {
      "cell_type": "code",
      "source": [
        "from sklearn import linear_model\n",
        "regr = linear_model.LinearRegression()\n",
        "regr.fit(x,y)"
      ],
      "metadata": {
        "id": "oVSVD3C5wgXC",
        "colab": {
          "base_uri": "https://localhost:8080/"
        },
        "outputId": "e5723398-768d-4ad5-c08c-5ee44095a59b"
      },
      "execution_count": 32,
      "outputs": [
        {
          "output_type": "execute_result",
          "data": {
            "text/plain": [
              "LinearRegression()"
            ]
          },
          "metadata": {},
          "execution_count": 32
        }
      ]
    },
    {
      "cell_type": "markdown",
      "metadata": {
        "id": "AOumH1he0kKB"
      },
      "source": [
        "# 연습문제\n",
        "\n",
        "## 문제 1,2 데이터 준비사항\n",
        "* np.random.seed(42)\n",
        "* X = 5 * np.random.rand(100,1)\n",
        "* y = 20 + 9 * X + np.random.rand(100,1) * 3\n",
        "* lin_data = pd.DataFrame(np.concatenate((x,y), axis=1), columns=['x', 'y'])"
      ]
    },
    {
      "cell_type": "markdown",
      "metadata": {
        "id": "P4Xl2Rs80kKC"
      },
      "source": [
        "### 1. 데이터 준비"
      ]
    },
    {
      "cell_type": "code",
      "execution_count": 33,
      "metadata": {
        "id": "mBMxZ12I0kKC",
        "outputId": "99925570-7b11-4a0d-950a-9b34a97db983",
        "colab": {
          "base_uri": "https://localhost:8080/",
          "height": 304
        }
      },
      "outputs": [
        {
          "output_type": "execute_result",
          "data": {
            "text/plain": [
              "<matplotlib.axes._subplots.AxesSubplot at 0x7f18e1ba0c10>"
            ]
          },
          "metadata": {},
          "execution_count": 33
        },
        {
          "output_type": "display_data",
          "data": {
            "text/plain": [
              "<Figure size 432x288 with 1 Axes>"
            ],
            "image/png": "[encoded data removed]"
          },
          "metadata": {
            "needs_background": "light"
          }
        }
      ],
      "source": [
        "np.random.seed(42)\n",
        "x = 5 * np.random.rand(100,1)\n",
        "y = 20 + 9*x +np.random.rand(100,1)*3\n",
        "\n",
        "lin_data = pd.DataFrame(np.concatenate((x,y), axis=1), columns=['x', 'y'])\n",
        "lin_data.plot(kind = 'scatter', x = 'x', y = 'y')"
      ]
    },
    {
      "cell_type": "markdown",
      "metadata": {
        "id": "-akhUpoK0kKE"
      },
      "source": [
        "### 2. Finding 'param'"
      ]
    },
    {
      "cell_type": "code",
      "execution_count": 34,
      "metadata": {
        "id": "k0_i5wjb0kKE"
      },
      "outputs": [],
      "source": [
        "# def h(x, param):\n",
        "#   return param[0]*x + param[1]\n",
        "\n",
        "# learning_iteration = 100\n",
        "# learning_rate = 0.05\n",
        "\n",
        "# param = [1,1]\n",
        "\n",
        "# x = lin_data['x'].to_numpy()\n",
        "# y = lin_data['y'].to_numpy()\n",
        "\n",
        "# print(x.shape, y.shape)\n",
        "# print(param)"
      ]
    },
    {
      "cell_type": "code",
      "source": [
        "x_b = np.c_[np.ones((100,1)),x] # 모든 샘플에 index 0번에 1을 추가\n",
        "\n",
        "# np.linalg.inv는 넘파이 선형대수 모듈(linalg)의 inv(역함수)\n",
        "# .dot은 행렬 곱셈\n",
        "theta_best = np.linalg.inv(x_b.T.dot(x_b)).dot(x_b.T).dot(y)\n",
        "theta_best"
      ],
      "metadata": {
        "colab": {
          "base_uri": "https://localhost:8080/"
        },
        "id": "IvSBA_nxmDJr",
        "outputId": "cb52dc31-03a9-4a27-9ea3-d59cf5071c65"
      },
      "execution_count": 35,
      "outputs": [
        {
          "output_type": "execute_result",
          "data": {
            "text/plain": [
              "array([[21.54079297],\n",
              "       [ 8.97988101]])"
            ]
          },
          "metadata": {},
          "execution_count": 35
        }
      ]
    },
    {
      "cell_type": "code",
      "source": [
        "x_new = np.array([[0],[5]])\n",
        "x_new_b = np.c_[np.ones((2,1)),x_new]\n",
        "prediction = x_new_b.dot(theta_best)\n",
        "prediction\n",
        "\n",
        "plt.plot(x_new,prediction,\"r-\")\n",
        "plt.plot(x,y,\"b.\")\n",
        "plt.axis([0,5,0,80]) # x축 범위 0~2, y축 범위 0~15 \n",
        "plt.show()"
      ],
      "metadata": {
        "colab": {
          "base_uri": "https://localhost:8080/",
          "height": 273
        },
        "id": "BBJAo2H155K8",
        "outputId": "2a070aff-082b-446c-be98-be91c129fa09"
      },
      "execution_count": 36,
      "outputs": [
        {
          "output_type": "display_data",
          "data": {
            "text/plain": [
              "<Figure size 432x288 with 1 Axes>"
            ],
            "image/png": "[encoded data removed]"
          },
          "metadata": {
            "needs_background": "light"
          }
        }
      ]
    },
    {
      "cell_type": "markdown",
      "metadata": {
        "id": "ZNq2vjB80kKF"
      },
      "source": [
        "## Question 2\n",
        "Using Scikit-Learn, find the [regr.coef_, regr.intercept_]\n",
        "* ans:\n",
        "* [array([[8.97988101]]), array([21.54079297])]"
      ]
    },
    {
      "cell_type": "code",
      "source": [
        "from sklearn.linear_model import LinearRegression\n",
        "\n",
        "lin_data.plot(kind = 'scatter', x = 'x', y= 'y')\n",
        "lin_reg = LinearRegression()\n",
        "lin_reg.fit(x,y)\n",
        "print(lin_reg.coef_, lin_reg.intercept_,)"
      ],
      "metadata": {
        "colab": {
          "base_uri": "https://localhost:8080/",
          "height": 304
        },
        "id": "vOPvRI2c8FyT",
        "outputId": "24ea94fe-9ad7-4475-9134-1700bb775276"
      },
      "execution_count": 41,
      "outputs": [
        {
          "output_type": "stream",
          "name": "stdout",
          "text": [
            "[[8.97988101]] [21.54079297]\n"
          ]
        },
        {
          "output_type": "display_data",
          "data": {
            "text/plain": [
              "<Figure size 432x288 with 1 Axes>"
            ],
            "image/png": "[encoded data removed]"
          },
          "metadata": {
            "needs_background": "light"
          }
        }
      ]
    },
    {
      "cell_type": "code",
      "source": [
        ""
      ],
      "metadata": {
        "id": "MFXXEIbXo1Tm"
      },
      "execution_count": null,
      "outputs": []
    }
  ],
  "metadata": {
    "colab": {
      "collapsed_sections": [],
      "name": "Lec3_Lab2_student_file_v1.ipynb",
      "provenance": []
    },
    "kernelspec": {
      "display_name": "Python 3",
      "language": "python",
      "name": "python3"
    },
    "language_info": {
      "codemirror_mode": {
        "name": "ipython",
        "version": 3
      },
      "file_extension": ".py",
      "mimetype": "text/x-python",
      "name": "python",
      "nbconvert_exporter": "python",
      "pygments_lexer": "ipython3",
      "version": "3.8.3"
    }
  },
  "nbformat": 4,
  "nbformat_minor": 0
}